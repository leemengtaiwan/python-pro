{
 "cells": [
  {
   "cell_type": "markdown",
   "metadata": {
    "toc": "true"
   },
   "source": [
    " # Table of Contents\n",
    "<div class=\"toc\" style=\"margin-top: 1em;\"><ul class=\"toc-item\" id=\"toc-level0\"><li><span><a href=\"http://localhost:8888/notebooks/ch131-Database-Access/sqlite.ipynb#Chapter-131:-Database-Access\" data-toc-modified-id=\"Chapter-131:-Database-Access-1\"><span class=\"toc-item-num\">1&nbsp;&nbsp;</span>Chapter 131: Database Access</a></span><ul class=\"toc-item\"><li><span><a href=\"http://localhost:8888/notebooks/ch131-Database-Access/sqlite.ipynb#Section-131.1:-SQLite\" data-toc-modified-id=\"Section-131.1:-SQLite-1.1\"><span class=\"toc-item-num\">1.1&nbsp;&nbsp;</span>Section 131.1: SQLite</a></span><ul class=\"toc-item\"><li><span><a href=\"http://localhost:8888/notebooks/ch131-Database-Access/sqlite.ipynb#對-cursor-執行-SQL-語法並透過-connection-commit/save-結果\" data-toc-modified-id=\"對-cursor-執行-SQL-語法並透過-connection-commit/save-結果-1.1.1\"><span class=\"toc-item-num\">1.1.1&nbsp;&nbsp;</span>對 cursor 執行 SQL 語法並透過 connection commit/save 結果</a></span></li><li><span><a href=\"http://localhost:8888/notebooks/ch131-Database-Access/sqlite.ipynb#用-cursor-查看剛才-commit-的-execute-結果\" data-toc-modified-id=\"用-cursor-查看剛才-commit-的-execute-結果-1.1.2\"><span class=\"toc-item-num\">1.1.2&nbsp;&nbsp;</span>用 cursor 查看剛才 commit 的 execute 結果</a></span></li><li><span><a href=\"http://localhost:8888/notebooks/ch131-Database-Access/sqlite.ipynb#使用-in-memory-sqlite\" data-toc-modified-id=\"使用-in-memory-sqlite-1.1.3\"><span class=\"toc-item-num\">1.1.3&nbsp;&nbsp;</span>使用 in-memory sqlite</a></span></li><li><span><a href=\"http://localhost:8888/notebooks/ch131-Database-Access/sqlite.ipynb#把上一次-commit-之後的所有-execute-紀錄消去重來\" data-toc-modified-id=\"把上一次-commit-之後的所有-execute-紀錄消去重來-1.1.4\"><span class=\"toc-item-num\">1.1.4&nbsp;&nbsp;</span>把上一次 commit 之後的所有 execute 紀錄消去重來</a></span></li></ul></li><li><span><a href=\"http://localhost:8888/notebooks/ch131-Database-Access/sqlite.ipynb#Connection\" data-toc-modified-id=\"Connection-1.2\"><span class=\"toc-item-num\">1.2&nbsp;&nbsp;</span>Connection</a></span><ul class=\"toc-item\"><li><span><a href=\"http://localhost:8888/notebooks/ch131-Database-Access/sqlite.ipynb#row_factory\" data-toc-modified-id=\"row_factory-1.2.1\"><span class=\"toc-item-num\">1.2.1&nbsp;&nbsp;</span><code>row_factory</code></a></span></li></ul></li><li><span><a href=\"http://localhost:8888/notebooks/ch131-Database-Access/sqlite.ipynb#Important-Functions-of-Cursor\" data-toc-modified-id=\"Important-Functions-of-Cursor-1.3\"><span class=\"toc-item-num\">1.3&nbsp;&nbsp;</span>Important Functions of Cursor</a></span></li></ul></li></ul></div>"
   ]
  },
  {
   "cell_type": "markdown",
   "metadata": {},
   "source": [
    "# Chapter 131: Database Access"
   ]
  },
  {
   "cell_type": "markdown",
   "metadata": {
    "collapsed": true
   },
   "source": [
    "## Section 131.1: SQLite"
   ]
  },
  {
   "cell_type": "markdown",
   "metadata": {},
   "source": [
    "SQlite 不需要一個額外的 database server, 常用的 use cases 是 prototyping 或者是建立專給一個人使用的 db"
   ]
  },
  {
   "cell_type": "code",
   "execution_count": 1,
   "metadata": {},
   "outputs": [],
   "source": [
    "import sqlite3"
   ]
  },
  {
   "cell_type": "code",
   "execution_count": 2,
   "metadata": {
    "scrolled": false
   },
   "outputs": [
    {
     "data": {
      "text/plain": [
       "'2.6.0'"
      ]
     },
     "execution_count": 2,
     "metadata": {},
     "output_type": "execute_result"
    }
   ],
   "source": [
    "sqlite3.version"
   ]
  },
  {
   "cell_type": "markdown",
   "metadata": {},
   "source": [
    "在目前的 folder 底下產生一個 file 叫做 `users.db` 來存放 db 資料並建立一個 connection  \n",
    "要使用 in-memory db 可以用\n",
    "```\n",
    "conn = sqlite3.connect(':memory:')\n",
    "```"
   ]
  },
  {
   "cell_type": "code",
   "execution_count": 5,
   "metadata": {},
   "outputs": [],
   "source": [
    "conn = sqlite3.connect(\"users.db\")"
   ]
  },
  {
   "cell_type": "code",
   "execution_count": 23,
   "metadata": {},
   "outputs": [
    {
     "name": "stdout",
     "output_type": "stream",
     "text": [
      "sqlite.ipynb users.db\r\n"
     ]
    }
   ],
   "source": [
    "!ls"
   ]
  },
  {
   "cell_type": "code",
   "execution_count": 6,
   "metadata": {},
   "outputs": [],
   "source": [
    "c = conn.cursor()"
   ]
  },
  {
   "cell_type": "markdown",
   "metadata": {},
   "source": [
    "### 對 cursor 執行 SQL 語法並透過 connection commit/save 結果"
   ]
  },
  {
   "cell_type": "code",
   "execution_count": 8,
   "metadata": {},
   "outputs": [
    {
     "data": {
      "text/plain": [
       "<sqlite3.Cursor at 0x111494ce0>"
      ]
     },
     "execution_count": 8,
     "metadata": {},
     "output_type": "execute_result"
    }
   ],
   "source": [
    "c.execute(\"CREATE TABLE user (name text, age integer)\")"
   ]
  },
  {
   "cell_type": "code",
   "execution_count": 11,
   "metadata": {},
   "outputs": [
    {
     "data": {
      "text/plain": [
       "<sqlite3.Cursor at 0x111494ce0>"
      ]
     },
     "execution_count": 11,
     "metadata": {},
     "output_type": "execute_result"
    }
   ],
   "source": [
    "c.execute(\"INSERT INTO user VALUES ('User A', 42)\")\n",
    "c.execute(\"INSERT INTO user VALUES ('User B', 25)\")"
   ]
  },
  {
   "cell_type": "code",
   "execution_count": 14,
   "metadata": {},
   "outputs": [],
   "source": [
    "conn.commit()"
   ]
  },
  {
   "cell_type": "markdown",
   "metadata": {
    "heading_collapsed": true
   },
   "source": [
    "### 用 cursor 查看剛才 commit 的 execute 結果"
   ]
  },
  {
   "cell_type": "code",
   "execution_count": 15,
   "metadata": {
    "hidden": true
   },
   "outputs": [
    {
     "data": {
      "text/plain": [
       "<sqlite3.Cursor at 0x111494ce0>"
      ]
     },
     "execution_count": 15,
     "metadata": {},
     "output_type": "execute_result"
    }
   ],
   "source": [
    "c.execute(\"SELECT * FROM user\")"
   ]
  },
  {
   "cell_type": "code",
   "execution_count": 17,
   "metadata": {
    "hidden": true
   },
   "outputs": [
    {
     "name": "stdout",
     "output_type": "stream",
     "text": [
      "Help on built-in function fetchall:\n",
      "\n",
      "fetchall(...) method of sqlite3.Cursor instance\n",
      "    Fetches all rows from the resultset.\n",
      "\n"
     ]
    }
   ],
   "source": [
    "help(c.fetchall)"
   ]
  },
  {
   "cell_type": "code",
   "execution_count": 18,
   "metadata": {
    "hidden": true
   },
   "outputs": [
    {
     "data": {
      "text/plain": [
       "[('User A', 42), ('User B', 25)]"
      ]
     },
     "execution_count": 18,
     "metadata": {},
     "output_type": "execute_result"
    }
   ],
   "source": [
    "c.fetchall()"
   ]
  },
  {
   "cell_type": "code",
   "execution_count": 19,
   "metadata": {
    "hidden": true
   },
   "outputs": [],
   "source": [
    "conn.close()"
   ]
  },
  {
   "cell_type": "markdown",
   "metadata": {
    "heading_collapsed": true
   },
   "source": [
    "### 使用 in-memory sqlite"
   ]
  },
  {
   "cell_type": "code",
   "execution_count": 73,
   "metadata": {
    "hidden": true
   },
   "outputs": [],
   "source": [
    "conn = sqlite3.connect(':memory:')"
   ]
  },
  {
   "cell_type": "code",
   "execution_count": 74,
   "metadata": {
    "hidden": true
   },
   "outputs": [],
   "source": [
    "c = conn.cursor()"
   ]
  },
  {
   "cell_type": "code",
   "execution_count": 75,
   "metadata": {
    "hidden": true
   },
   "outputs": [],
   "source": [
    "c.execute('''CREATE TABLE friends\n",
    "            (id INTEGER, name TEXT, birthday DATE)''')\n",
    "c.execute('''INSERT INTO friends\n",
    "             VALUES (1, \"lee\", \"1990-10-22\")''')\n",
    "conn.commit()"
   ]
  },
  {
   "cell_type": "code",
   "execution_count": 76,
   "metadata": {
    "hidden": true
   },
   "outputs": [
    {
     "data": {
      "text/plain": [
       "[(1, 'lee', '1990-10-22')]"
      ]
     },
     "execution_count": 76,
     "metadata": {},
     "output_type": "execute_result"
    }
   ],
   "source": [
    "c.execute('''SELECT * FROM friends''')\n",
    "c.fetchall()"
   ]
  },
  {
   "cell_type": "markdown",
   "metadata": {
    "heading_collapsed": true
   },
   "source": [
    "### 把上一次 commit 之後的所有 execute 紀錄消去重來"
   ]
  },
  {
   "cell_type": "code",
   "execution_count": 77,
   "metadata": {
    "hidden": true
   },
   "outputs": [
    {
     "data": {
      "text/plain": [
       "<sqlite3.Cursor at 0x111a3de30>"
      ]
     },
     "execution_count": 77,
     "metadata": {},
     "output_type": "execute_result"
    }
   ],
   "source": [
    "c.execute('''INSERT INTO friends\n",
    "             VALUES (2, \"lee-will-got-rollbacked-and-never-show\", \"1990-11-22\")''')"
   ]
  },
  {
   "cell_type": "code",
   "execution_count": 78,
   "metadata": {
    "hidden": true
   },
   "outputs": [],
   "source": [
    "conn.rollback()\n",
    "conn.commit()"
   ]
  },
  {
   "cell_type": "code",
   "execution_count": 79,
   "metadata": {
    "hidden": true
   },
   "outputs": [
    {
     "data": {
      "text/plain": [
       "[(1, 'lee', '1990-10-22')]"
      ]
     },
     "execution_count": 79,
     "metadata": {},
     "output_type": "execute_result"
    }
   ],
   "source": [
    "c.execute('''SELECT * FROM friends''')\n",
    "c.fetchall()"
   ]
  },
  {
   "cell_type": "code",
   "execution_count": 80,
   "metadata": {
    "hidden": true
   },
   "outputs": [],
   "source": [
    "conn.close()"
   ]
  },
  {
   "cell_type": "markdown",
   "metadata": {},
   "source": [
    "## Connection\n",
    "- `isolation_level` 沒有特別設定的話, 沒有 `commit` 的 SQL execute 都會被自動捨棄\n",
    "- 省略 `cursor`: 基本上可以不另外呼叫`cursor`直接用conn做SQL操作, 直接呼叫`execute()`, sqlite 就會自動幫我們建立一個`cursor` 物件並呼叫對應的 methods"
   ]
  },
  {
   "cell_type": "code",
   "execution_count": 123,
   "metadata": {},
   "outputs": [],
   "source": [
    "conn = sqlite3.connect(\"users.db\")"
   ]
  },
  {
   "cell_type": "code",
   "execution_count": 124,
   "metadata": {},
   "outputs": [
    {
     "data": {
      "text/plain": [
       "''"
      ]
     },
     "execution_count": 124,
     "metadata": {},
     "output_type": "execute_result"
    }
   ],
   "source": [
    "conn.isolation_level"
   ]
  },
  {
   "cell_type": "code",
   "execution_count": 125,
   "metadata": {},
   "outputs": [],
   "source": [
    "conn.execute(\"INSERT INTO user VALUES ('User C will not be inserted!', 250)\")\n",
    "conn.close() # no commit before close!"
   ]
  },
  {
   "cell_type": "code",
   "execution_count": 126,
   "metadata": {},
   "outputs": [],
   "source": [
    "conn = sqlite3.connect(\"users.db\")"
   ]
  },
  {
   "cell_type": "code",
   "execution_count": 127,
   "metadata": {},
   "outputs": [
    {
     "name": "stdout",
     "output_type": "stream",
     "text": [
      "[('User A', 42), ('User B', 25)]\n"
     ]
    }
   ],
   "source": [
    "print(conn.execute(\"SELECT * FROM user\").fetchall())\n",
    "conn.close()"
   ]
  },
  {
   "cell_type": "markdown",
   "metadata": {},
   "source": [
    "### `row_factory`\n",
    "sqlite 預設每一 row 是一個 tuple, 利用`row_factory`可以自訂每一 row 的 repr, 像是`dict`"
   ]
  },
  {
   "cell_type": "code",
   "execution_count": 132,
   "metadata": {},
   "outputs": [],
   "source": [
    "def dict_factory(cursor, row): \n",
    "    d = {}\n",
    "    print('Row')\n",
    "    for i, col in enumerate(cursor.description): \n",
    "        print('\\ti: {}, col: {}'.format(i, col))\n",
    "        d[col[0]] = row[i]\n",
    "    return d\n",
    "conn = sqlite3.connect(\"users.db\")\n",
    "conn.row_factory = dict_factory"
   ]
  },
  {
   "cell_type": "code",
   "execution_count": 133,
   "metadata": {},
   "outputs": [
    {
     "name": "stdout",
     "output_type": "stream",
     "text": [
      "Row\n",
      "\ti: 0, col: ('name', None, None, None, None, None, None)\n",
      "\ti: 1, col: ('age', None, None, None, None, None, None)\n",
      "Row\n",
      "\ti: 0, col: ('name', None, None, None, None, None, None)\n",
      "\ti: 1, col: ('age', None, None, None, None, None, None)\n"
     ]
    },
    {
     "data": {
      "text/plain": [
       "[{'age': 42, 'name': 'User A'}, {'age': 25, 'name': 'User B'}]"
      ]
     },
     "execution_count": 133,
     "metadata": {},
     "output_type": "execute_result"
    }
   ],
   "source": [
    "conn.execute('SELECT * FROM user').fetchall()"
   ]
  },
  {
   "cell_type": "code",
   "execution_count": 134,
   "metadata": {},
   "outputs": [],
   "source": [
    "conn.close()"
   ]
  },
  {
   "cell_type": "code",
   "execution_count": null,
   "metadata": {},
   "outputs": [],
   "source": []
  },
  {
   "cell_type": "code",
   "execution_count": null,
   "metadata": {},
   "outputs": [],
   "source": []
  }
 ],
 "metadata": {
  "_draft": {
   "nbviewer_url": "https://gist.github.com/8df0fa8ff2924c0c384a5ebb89b86257"
  },
  "gist": {
   "data": {
    "description": "ch131-Database-Access/sqlite.ipynb",
    "public": false
   },
   "id": "8df0fa8ff2924c0c384a5ebb89b86257"
  },
  "kernelspec": {
   "display_name": "Python 3",
   "language": "python",
   "name": "python3"
  },
  "language_info": {
   "codemirror_mode": {
    "name": "ipython",
    "version": 3
   },
   "file_extension": ".py",
   "mimetype": "text/x-python",
   "name": "python",
   "nbconvert_exporter": "python",
   "pygments_lexer": "ipython3",
   "version": "3.6.4"
  },
  "toc": {
   "nav_menu": {},
   "number_sections": true,
   "sideBar": false,
   "skip_h1_title": false,
   "toc_cell": true,
   "toc_position": {},
   "toc_section_display": "block",
   "toc_window_display": false
  },
  "varInspector": {
   "cols": {
    "lenName": 16.0,
    "lenType": 16.0,
    "lenVar": 40.0
   },
   "kernels_config": {
    "python": {
     "delete_cmd_postfix": "",
     "delete_cmd_prefix": "del ",
     "library": "var_list.py",
     "varRefreshCmd": "print(var_dic_list())"
    },
    "r": {
     "delete_cmd_postfix": ") ",
     "delete_cmd_prefix": "rm(",
     "library": "var_list.r",
     "varRefreshCmd": "cat(var_dic_list()) "
    }
   },
   "types_to_exclude": [
    "module",
    "function",
    "builtin_function_or_method",
    "instance",
    "_Feature"
   ],
   "window_display": false
  }
 },
 "nbformat": 4,
 "nbformat_minor": 2
}
