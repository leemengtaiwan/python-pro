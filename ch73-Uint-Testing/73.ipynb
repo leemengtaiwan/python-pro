{
 "cells": [
  {
   "cell_type": "markdown",
   "metadata": {},
   "source": [
    "# Section 73.1: Test Setup and Teardown within a unittest.TestCase"
   ]
  },
  {
   "cell_type": "code",
   "execution_count": 10,
   "metadata": {},
   "outputs": [
    {
     "name": "stdout",
     "output_type": "stream",
     "text": [
      "import unittest\r\n",
      "\r\n",
      "class SomeTest(unittest.TestCase):\r\n",
      "    def setUp(self):\r\n",
      "        super(SomeTest, self).setUp()\r\n",
      "        self.mock_data = [1, 2, 3, 4, 5]\r\n",
      "\r\n",
      "    def test(self):\r\n",
      "        self.assertEqual(len(self.mock_data), 5)\r\n",
      "\r\n",
      "    def teraDown(self, sdfs):\r\n",
      "        super(SomeTest, self).tearDown()\r\n",
      "        self.mock_data = []\r\n",
      "\r\n",
      "if __name__ == '__main__':\r\n",
      "    unittest.main()"
     ]
    }
   ],
   "source": [
    "%cat unitest1.py"
   ]
  },
  {
   "cell_type": "code",
   "execution_count": 12,
   "metadata": {},
   "outputs": [
    {
     "name": "stderr",
     "output_type": "stream",
     "text": [
      ".\n",
      "----------------------------------------------------------------------\n",
      "Ran 1 test in 0.001s\n",
      "\n",
      "OK\n"
     ]
    }
   ],
   "source": [
    "%run unitest1.py"
   ]
  },
  {
   "cell_type": "markdown",
   "metadata": {},
   "source": [
    "# Section 73.2: Asserting on Exceptions"
   ]
  },
  {
   "cell_type": "markdown",
   "metadata": {},
   "source": []
  },
  {
   "cell_type": "code",
   "execution_count": null,
   "metadata": {
    "collapsed": true
   },
   "outputs": [],
   "source": []
  },
  {
   "cell_type": "markdown",
   "metadata": {},
   "source": [
    "# Python 3 Testing: An Intro to unittest\n",
    "Source: https://www.blog.pythonlibrary.org/2016/07/07/python-3-testing-an-intro-to-unittest/"
   ]
  },
  {
   "cell_type": "code",
   "execution_count": 14,
   "metadata": {
    "collapsed": true
   },
   "outputs": [],
   "source": [
    "%pycat mymath.py"
   ]
  },
  {
   "cell_type": "markdown",
   "metadata": {},
   "source": [
    "TestCase 裡頭的每個 method 的開頭都要是 `test` 以及包含一個 assertion"
   ]
  },
  {
   "cell_type": "code",
   "execution_count": 36,
   "metadata": {},
   "outputs": [
    {
     "name": "stdout",
     "output_type": "stream",
     "text": [
      "import mymath\r\n",
      "import unittest\r\n",
      "\r\n",
      "class TestAdd(unittest.TestCase):\r\n",
      "    \"\"\"\r\n",
      "    Test the add function from the mymath library\r\n",
      "    \"\"\"\r\n",
      "\r\n",
      "    def test_add_integers(self):\r\n",
      "        result = mymath.add(1, 2)\r\n",
      "        self.assertEqual(result, 3)\r\n",
      "\r\n",
      "    def test_add_strings(self):\r\n",
      "        result = mymath.add('abc', 'def')\r\n",
      "        self.assertEqual(result, 'abcdef')\r\n",
      "\r\n",
      "    def this_method_will_not_be_called(self):\r\n",
      "        print('Catch me if you can.')\r\n",
      "\r\n",
      "if __name__ == '__main__':\r\n",
      "    unittest.main()\r\n"
     ]
    }
   ],
   "source": [
    "!cat test_mymath.py"
   ]
  },
  {
   "cell_type": "code",
   "execution_count": 22,
   "metadata": {},
   "outputs": [
    {
     "name": "stderr",
     "output_type": "stream",
     "text": [
      "..\n",
      "----------------------------------------------------------------------\n",
      "Ran 2 tests in 0.002s\n",
      "\n",
      "OK\n"
     ]
    }
   ],
   "source": [
    "%run test_mymath.py"
   ]
  },
  {
   "cell_type": "markdown",
   "metadata": {},
   "source": [
    "## Test with verbose output"
   ]
  },
  {
   "cell_type": "code",
   "execution_count": 23,
   "metadata": {},
   "outputs": [
    {
     "name": "stderr",
     "output_type": "stream",
     "text": [
      "test_add_integers (__main__.TestAdd) ... ok\n",
      "test_add_strings (__main__.TestAdd) ... ok\n",
      "\n",
      "----------------------------------------------------------------------\n",
      "Ran 2 tests in 0.003s\n",
      "\n",
      "OK\n"
     ]
    }
   ],
   "source": [
    "%run test_mymath.py -v"
   ]
  },
  {
   "cell_type": "markdown",
   "metadata": {},
   "source": [
    "## 查看 unittest module 的參數"
   ]
  },
  {
   "cell_type": "code",
   "execution_count": 50,
   "metadata": {},
   "outputs": [
    {
     "name": "stdout",
     "output_type": "stream",
     "text": [
      "usage: python -m unittest [-h] [-v] [-q] [--locals] [-f] [-c] [-b]\r\n",
      "                          [tests [tests ...]]\r\n",
      "\r\n",
      "positional arguments:\r\n",
      "  tests           a list of any number of test modules, classes and test\r\n",
      "                  methods.\r\n",
      "\r\n",
      "optional arguments:\r\n",
      "  -h, --help      show this help message and exit\r\n",
      "  -v, --verbose   Verbose output\r\n",
      "  -q, --quiet     Quiet output\r\n",
      "  --locals        Show local variables in tracebacks\r\n",
      "  -f, --failfast  Stop on first fail or error\r\n",
      "  -c, --catch     Catch Ctrl-C and display results so far\r\n",
      "  -b, --buffer    Buffer stdout and stderr during tests\r\n",
      "\r\n",
      "Examples:\r\n",
      "  python -m unittest test_module               - run tests from test_module\r\n",
      "  python -m unittest module.TestClass          - run tests from module.TestClass\r\n",
      "  python -m unittest module.Class.test_method  - run specified test method\r\n",
      "  python -m unittest path/to/test_file.py      - run tests from test_file.py\r\n",
      "\r\n",
      "usage: python -m unittest discover [-h] [-v] [-q] [--locals] [-f] [-c] [-b]\r\n",
      "                                   [-s START] [-p PATTERN] [-t TOP]\r\n",
      "\r\n"
     ]
    }
   ],
   "source": [
    "!python -m unittest -h | head -n 25"
   ]
  },
  {
   "cell_type": "markdown",
   "metadata": {},
   "source": [
    "## 呼叫 unittest module 來跑 test module\n",
    "- 沒有 `unittest.main()` 的 test script 也能直接跑\n",
    "- 善用 `unittest.skip*` 來選擇要跑的 test function"
   ]
  },
  {
   "cell_type": "code",
   "execution_count": 37,
   "metadata": {},
   "outputs": [
    {
     "name": "stdout",
     "output_type": "stream",
     "text": [
      "import sys\r\n",
      "import mymath\r\n",
      "import unittest\r\n",
      "\r\n",
      "class TestAdd(unittest.TestCase):\r\n",
      "    \"\"\"\r\n",
      "    Test the add function from the mymath library\r\n",
      "    \"\"\"\r\n",
      "\r\n",
      "    def test_add_integers(self):\r\n",
      "        result = mymath.add(1, 2)\r\n",
      "        self.assertEqual(result, 3)\r\n",
      "\r\n",
      "\r\n",
      "    def test_add_strings(self):\r\n",
      "        result = mymath.add('abc', 'def')\r\n",
      "        self.assertEqual(result, 'abcdef')\r\n",
      "\r\n",
      "\r\n",
      "    def this_method_will_not_be_called(self):\r\n",
      "        print('Catch me if you can.')\r\n",
      "\r\n",
      "\r\n",
      "    @unittest.skip('Got skipped sadly')\r\n",
      "    def test_func_1(self):\r\n",
      "        print(\"I will be skipped\")\r\n",
      "\r\n",
      "\r\n",
      "    @unittest.skipUnless(sys.platform.startswith(\"win\"), \"Tested only on windows\")\r\n",
      "    def test_add_on_windows(self):\r\n",
      "        result = mymath.add(100, 101)\r\n",
      "        self.assertEqual(result, 201)"
     ]
    }
   ],
   "source": [
    "!cat test_mymath_without_main.py"
   ]
  },
  {
   "cell_type": "code",
   "execution_count": 38,
   "metadata": {},
   "outputs": [
    {
     "name": "stdout",
     "output_type": "stream",
     "text": [
      "..\r\n",
      "----------------------------------------------------------------------\r\n",
      "Ran 2 tests in 0.000s\r\n",
      "\r\n",
      "OK\r\n"
     ]
    }
   ],
   "source": [
    "!python -m unittest test_mymath.py"
   ]
  },
  {
   "cell_type": "code",
   "execution_count": 40,
   "metadata": {},
   "outputs": [
    {
     "name": "stdout",
     "output_type": "stream",
     "text": [
      "test_add_integers (test_mymath_without_main.TestAdd) ... ok\r\n",
      "test_add_on_windows (test_mymath_without_main.TestAdd) ... skipped 'Tested only on windows'\r\n",
      "test_add_strings (test_mymath_without_main.TestAdd) ... ok\r\n",
      "test_func_1 (test_mymath_without_main.TestAdd) ... skipped 'Got skipped sadly'\r\n",
      "\r\n",
      "----------------------------------------------------------------------\r\n",
      "Ran 4 tests in 0.000s\r\n",
      "\r\n",
      "OK (skipped=2)\r\n"
     ]
    }
   ],
   "source": [
    "!python -m unittest test_mymath_without_main.py -v"
   ]
  },
  {
   "cell_type": "markdown",
   "metadata": {},
   "source": [
    "## 呼叫某 test module 裡特定的 function "
   ]
  },
  {
   "cell_type": "code",
   "execution_count": 31,
   "metadata": {},
   "outputs": [
    {
     "name": "stdout",
     "output_type": "stream",
     "text": [
      ".\r\n",
      "----------------------------------------------------------------------\r\n",
      "Ran 1 test in 0.000s\r\n",
      "\r\n",
      "OK\r\n"
     ]
    }
   ],
   "source": [
    "!python -m unittest test_mymath_without_main.TestAdd.test_add_strings"
   ]
  },
  {
   "cell_type": "markdown",
   "metadata": {},
   "source": [
    "##  Test Discovery using Doctest\n"
   ]
  },
  {
   "cell_type": "code",
   "execution_count": 52,
   "metadata": {},
   "outputs": [
    {
     "name": "stdout",
     "output_type": "stream",
     "text": [
      "def add(a, b):\r\n",
      "    \"\"\"Return the addition of the arguments: a + b\r\n",
      "\r\n",
      "    Examples:\r\n",
      "        >>> add(-1, 10)\r\n",
      "        9\r\n",
      "        >>> add('a', 'b')\r\n",
      "        'ab'\r\n",
      "        >>> add(1, '2')\r\n",
      "        Traceback (most recent call last):\r\n",
      "          File \"test.py\", line 17, in <module>\r\n",
      "            add(1, '2')\r\n",
      "          File \"test.py\", line 14, in add\r\n",
      "            return a + b\r\n",
      "        TypeError: unsupported operand type(s) for +: 'int' and 'str'\r\n",
      "    \"\"\"\r\n",
      "    return a + b\r\n",
      "\r\n",
      "\r\n",
      "def subtract(a, b):\r\n"
     ]
    }
   ],
   "source": [
    "!cat my_docs.py | head -n 20"
   ]
  },
  {
   "cell_type": "markdown",
   "metadata": {},
   "source": [
    "要測試 my_docs module 裡頭的 function, 要另外創一個 script 引進 doctest module 並把 my_docs module 當成 DocTestSuite"
   ]
  },
  {
   "cell_type": "code",
   "execution_count": 48,
   "metadata": {},
   "outputs": [
    {
     "name": "stdout",
     "output_type": "stream",
     "text": [
      "import doctest\r\n",
      "import my_docs\r\n",
      "import unittest\r\n",
      "\r\n",
      "\r\n",
      "def load_tests(loader, tests, ignore):\r\n",
      "    tests.addTests(doctest.DocTestSuite(my_docs))\r\n",
      "    return tests"
     ]
    }
   ],
   "source": [
    "!cat test_doctests.py"
   ]
  },
  {
   "cell_type": "code",
   "execution_count": 53,
   "metadata": {},
   "outputs": [
    {
     "name": "stdout",
     "output_type": "stream",
     "text": [
      "add (my_docs)\r\n",
      "Doctest: my_docs.add ... ok\r\n",
      "subtract (my_docs)\r\n",
      "Doctest: my_docs.subtract ... ok\r\n",
      "test_add_integers (test_mymath.TestAdd) ... ok\r\n",
      "test_add_strings (test_mymath.TestAdd) ... ok\r\n",
      "test_add_integers (test_mymath_without_main.TestAdd) ... ok\r\n",
      "test_add_on_windows (test_mymath_without_main.TestAdd) ... skipped 'Tested only on windows'\r\n",
      "test_add_strings (test_mymath_without_main.TestAdd) ... ok\r\n",
      "test_func_1 (test_mymath_without_main.TestAdd) ... skipped 'Got skipped sadly'\r\n",
      "\r\n",
      "----------------------------------------------------------------------\r\n",
      "Ran 8 tests in 0.003s\r\n",
      "\r\n",
      "OK (skipped=2)\r\n"
     ]
    }
   ],
   "source": [
    "!python -m unittest discover -v"
   ]
  },
  {
   "cell_type": "markdown",
   "metadata": {},
   "source": [
    "# References\n",
    "- [Software development skills for data scientists](http://treycausey.com/software_dev_skills.html)"
   ]
  }
 ],
 "metadata": {
  "kernelspec": {
   "display_name": "Python [default]",
   "language": "python",
   "name": "python3"
  },
  "language_info": {
   "codemirror_mode": {
    "name": "ipython",
    "version": 3
   },
   "file_extension": ".py",
   "mimetype": "text/x-python",
   "name": "python",
   "nbconvert_exporter": "python",
   "pygments_lexer": "ipython3",
   "version": "3.6.2"
  },
  "toc": {
   "nav_menu": {},
   "number_sections": true,
   "sideBar": false,
   "skip_h1_title": false,
   "toc_cell": false,
   "toc_position": {},
   "toc_section_display": "block",
   "toc_window_display": false
  },
  "varInspector": {
   "cols": {
    "lenName": 16,
    "lenType": 16,
    "lenVar": 40
   },
   "kernels_config": {
    "python": {
     "delete_cmd_postfix": "",
     "delete_cmd_prefix": "del ",
     "library": "var_list.py",
     "varRefreshCmd": "print(var_dic_list())"
    },
    "r": {
     "delete_cmd_postfix": ") ",
     "delete_cmd_prefix": "rm(",
     "library": "var_list.r",
     "varRefreshCmd": "cat(var_dic_list()) "
    }
   },
   "types_to_exclude": [
    "module",
    "function",
    "builtin_function_or_method",
    "instance",
    "_Feature"
   ],
   "window_display": false
  }
 },
 "nbformat": 4,
 "nbformat_minor": 2
}
