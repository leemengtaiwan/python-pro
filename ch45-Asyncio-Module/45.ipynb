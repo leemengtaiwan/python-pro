{
 "cells": [
  {
   "cell_type": "markdown",
   "metadata": {},
   "source": [
    "# Section 45.1: Coroutine and Delegation Syntax"
   ]
  },
  {
   "cell_type": "markdown",
   "metadata": {},
   "source": [
    "以下全部是 python 3.5+"
   ]
  },
  {
   "cell_type": "code",
   "execution_count": 1,
   "metadata": {
    "collapsed": true
   },
   "outputs": [],
   "source": [
    "import asyncio"
   ]
  },
  {
   "cell_type": "code",
   "execution_count": 3,
   "metadata": {
    "collapsed": true
   },
   "outputs": [],
   "source": [
    "async def main():\n",
    "    print(await func())"
   ]
  },
  {
   "cell_type": "code",
   "execution_count": 4,
   "metadata": {
    "collapsed": true
   },
   "outputs": [],
   "source": [
    "async def func():\n",
    "    return \"Hello, world!\""
   ]
  },
  {
   "cell_type": "code",
   "execution_count": 5,
   "metadata": {},
   "outputs": [
    {
     "name": "stdout",
     "output_type": "stream",
     "text": [
      "Hello, world!\n"
     ]
    }
   ],
   "source": [
    "loop = asyncio.get_event_loop()\n",
    "loop.run_until_complete(main())"
   ]
  },
  {
   "cell_type": "markdown",
   "metadata": {},
   "source": [
    "## Two functions"
   ]
  },
  {
   "cell_type": "code",
   "execution_count": 10,
   "metadata": {},
   "outputs": [
    {
     "name": "stdout",
     "output_type": "stream",
     "text": [
      "\t\tcor2 start\n",
      "cor1 start\n",
      "\t\tcor2 0\n",
      "\t\tcor2 1\n",
      "cor1 0\n",
      "\t\tcor2 2\n",
      "\t\tcor2 3\n",
      "\t\tcor2 4\n",
      "cor1 1\n",
      "cor1 2\n",
      "cor1 3\n",
      "cor1 4\n"
     ]
    },
    {
     "data": {
      "text/plain": [
       "({<Task finished coro=<cor2() done, defined at <ipython-input-10-4fab4c578849>:7> result=None>,\n",
       "  <Task finished coro=<cor1() done, defined at <ipython-input-10-4fab4c578849>:2> result=None>},\n",
       " set())"
      ]
     },
     "execution_count": 10,
     "metadata": {},
     "output_type": "execute_result"
    }
   ],
   "source": [
    "import asyncio\n",
    "async def cor1():\n",
    "    print(\"cor1 start\")\n",
    "    for i in range(5):\n",
    "        await asyncio.sleep(1.5)\n",
    "        print(\"cor1\", i)\n",
    "async def cor2(): \n",
    "    print(\"\\t\\tcor2 start\") \n",
    "    for i in range(5):\n",
    "        await asyncio.sleep(0.5)\n",
    "        print(\"\\t\\tcor2\", i)\n",
    "        \n",
    "loop = asyncio.get_event_loop()\n",
    "cors = asyncio.wait([cor1(), cor2()])\n",
    "loop.run_until_complete(cors)"
   ]
  },
  {
   "cell_type": "markdown",
   "metadata": {},
   "source": [
    "# Section 45.2: Asynchronous Executors"
   ]
  },
  {
   "cell_type": "code",
   "execution_count": null,
   "metadata": {
    "collapsed": true
   },
   "outputs": [],
   "source": []
  },
  {
   "cell_type": "code",
   "execution_count": null,
   "metadata": {
    "collapsed": true
   },
   "outputs": [],
   "source": []
  },
  {
   "cell_type": "markdown",
   "metadata": {},
   "source": [
    "# References\n",
    "- https://eng.paxos.com/python-3s-killer-feature-asyncio\n",
    "- https://www.datacamp.com/community/tutorials/asyncio-introduction\n",
    "- http://dataconomy.com/2017/07/big-data-numpy-numba-python/"
   ]
  },
  {
   "cell_type": "code",
   "execution_count": null,
   "metadata": {
    "collapsed": true
   },
   "outputs": [],
   "source": []
  }
 ],
 "metadata": {
  "kernelspec": {
   "display_name": "Python [conda root]",
   "language": "python",
   "name": "conda-root-py"
  },
  "language_info": {
   "codemirror_mode": {
    "name": "ipython",
    "version": 3
   },
   "file_extension": ".py",
   "mimetype": "text/x-python",
   "name": "python",
   "nbconvert_exporter": "python",
   "pygments_lexer": "ipython3",
   "version": "3.6.2"
  },
  "toc": {
   "nav_menu": {},
   "number_sections": true,
   "sideBar": false,
   "skip_h1_title": false,
   "toc_cell": false,
   "toc_position": {},
   "toc_section_display": "block",
   "toc_window_display": false
  },
  "varInspector": {
   "cols": {
    "lenName": 16,
    "lenType": 16,
    "lenVar": 40
   },
   "kernels_config": {
    "python": {
     "delete_cmd_postfix": "",
     "delete_cmd_prefix": "del ",
     "library": "var_list.py",
     "varRefreshCmd": "print(var_dic_list())"
    },
    "r": {
     "delete_cmd_postfix": ") ",
     "delete_cmd_prefix": "rm(",
     "library": "var_list.r",
     "varRefreshCmd": "cat(var_dic_list()) "
    }
   },
   "types_to_exclude": [
    "module",
    "function",
    "builtin_function_or_method",
    "instance",
    "_Feature"
   ],
   "window_display": false
  }
 },
 "nbformat": 4,
 "nbformat_minor": 2
}
